{
 "cells": [
  {
   "cell_type": "markdown",
   "id": "b378afc9",
   "metadata": {},
   "source": [
    "## Programming Assignment 2 \n",
    "* Will Robinson \n",
    "* 9-15-2021\n",
    "* CS-150-01"
   ]
  },
  {
   "cell_type": "code",
   "execution_count": 125,
   "id": "69814dff",
   "metadata": {},
   "outputs": [
    {
     "name": "stdout",
     "output_type": "stream",
     "text": [
      "0\n",
      "1\n",
      "2\n",
      "3\n",
      "4\n",
      "5\n",
      "6 *\n",
      "7\n",
      "8\n",
      "9 *\n",
      "10\n",
      "11\n",
      "12 *\n",
      "13\n",
      "14\n",
      "15 *\n",
      "16\n",
      "17\n",
      "18 *\n",
      "19\n",
      "20\n",
      "21 *\n",
      "22\n",
      "23\n",
      "24 *\n",
      "25\n",
      "26\n",
      "27 *\n",
      "28\n",
      "29\n",
      "30 *\n",
      "31\n",
      "32\n",
      "33 *\n",
      "34\n",
      "35\n",
      "36 *\n",
      "37\n",
      "38\n",
      "39 *\n",
      "40\n",
      "41\n",
      "42 *\n",
      "43\n",
      "44\n",
      "45 *\n",
      "46\n",
      "47\n",
      "48 *\n",
      "49\n",
      "50\n",
      "51 *\n",
      "52\n",
      "53\n",
      "54 *\n",
      "55\n",
      "56\n",
      "57 *\n",
      "58\n",
      "59\n",
      "60 *\n",
      "61\n",
      "62\n",
      "63 *\n",
      "64\n",
      "65\n",
      "66 *\n",
      "67\n",
      "68\n",
      "69 *\n",
      "70\n",
      "71\n",
      "72 *\n",
      "73\n",
      "74\n",
      "75 *\n",
      "76\n",
      "77\n",
      "78 *\n",
      "79\n",
      "80\n",
      "81 *\n",
      "82\n",
      "83\n",
      "84 *\n",
      "85\n",
      "86\n",
      "87 *\n",
      "88\n",
      "89\n",
      "90 *\n",
      "91\n",
      "92\n",
      "93 *\n",
      "94\n",
      "95\n",
      "96 *\n",
      "97\n",
      "98\n",
      "99 *\n"
     ]
    }
   ],
   "source": [
    "for num in range(0,100):\n",
    "    if num %3==0 and num>3:\n",
    "        print(num, \"*\")\n",
    "    else:\n",
    "        print(num)\n",
    "\n",
    "   \n",
    "        "
   ]
  },
  {
   "cell_type": "code",
   "execution_count": 121,
   "id": "7f636457",
   "metadata": {},
   "outputs": [
    {
     "name": "stdout",
     "output_type": "stream",
     "text": [
      "Enter a number (0 to quit)9\n",
      "Minor\n",
      "Enter a number (0 to quit)70\n",
      "Senior Citizen\n",
      "Enter a number (0 to quit)40\n",
      "Adult\n",
      "Enter a number (0 to quit)0\n"
     ]
    }
   ],
   "source": [
    "user_input=int(input(\"Enter a number (0 to quit)\"))\n",
    "while user_input>0:\n",
    "    if user_input<18:\n",
    "        print(\"Minor\")\n",
    "    elif user_input>=65:\n",
    "        print(\"Senior Citizen\")\n",
    "    else:\n",
    "        print(\"Adult\")\n",
    "    user_input=int(input(\"Enter a number (0 to quit)\"))"
   ]
  },
  {
   "cell_type": "code",
   "execution_count": 122,
   "id": "8fd1a822",
   "metadata": {},
   "outputs": [
    {
     "name": "stdout",
     "output_type": "stream",
     "text": [
      "Senior Citizen\n",
      "Senior Citizen\n",
      "Adult\n",
      "Adult\n",
      "Minor\n",
      "Minor\n",
      "Adult\n",
      "Senior Citizen\n"
     ]
    }
   ],
   "source": [
    "number=[65,78,34,56,12,9,43,67]\n",
    "for number in number:\n",
    "    if number<18:\n",
    "        print(\"Minor\")\n",
    "    elif number>=65:\n",
    "        print(\"Senior Citizen\")\n",
    "    else:\n",
    "        print(\"Adult\")"
   ]
  }
 ],
 "metadata": {
  "kernelspec": {
   "display_name": "Python 3",
   "language": "python",
   "name": "python3"
  },
  "language_info": {
   "codemirror_mode": {
    "name": "ipython",
    "version": 3
   },
   "file_extension": ".py",
   "mimetype": "text/x-python",
   "name": "python",
   "nbconvert_exporter": "python",
   "pygments_lexer": "ipython3",
   "version": "3.8.8"
  }
 },
 "nbformat": 4,
 "nbformat_minor": 5
}
